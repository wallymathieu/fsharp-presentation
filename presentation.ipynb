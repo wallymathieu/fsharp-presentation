{
 "cells": [
  {
   "cell_type": "markdown",
   "metadata": {},
   "source": [
    "# What if we imagine F# as more than it is?"
   ]
  },
  {
   "cell_type": "code",
   "execution_count": 1,
   "metadata": {},
   "outputs": [],
   "source": [
    "#load \".paket/load/FluentValidation.fsx\"\n",
    "#load \".paket/load/FSharpPlus.fsx\"\n",
    "#load \".paket/load/System.ComponentModel.Annotations.fsx\"\n",
    "open FSharpPlus\n",
    "open FSharpPlus.Operators\n",
    "open FSharpPlus.Data\n",
    "open System"
   ]
  },
  {
   "cell_type": "markdown",
   "metadata": {},
   "source": [
    "What are the limitations that an ocaml or f# developer has to deal with?\n",
    " "
   ]
  },
  {
   "cell_type": "code",
   "execution_count": 16,
   "metadata": {},
   "outputs": [
    {
     "data": {
      "text/plain": [
       "[[(1, \"alpha\"); (1, \"beta\"); (1, \"gamma\")]; [(2, \"alfa\")]; [(3, \"oe\")]]"
      ]
     },
     "execution_count": 16,
     "metadata": {},
     "output_type": "execute_result"
    }
   ],
   "source": [
    "let v = [(1,\"alpha\");(1,\"beta\");(1,\"gamma\");(2,\"alfa\");(3,\"oe\")]\n",
    "        |> List.groupBy fst\n",
    "        |> List.map snd\n",
    "v"
   ]
  },
  {
   "cell_type": "code",
   "execution_count": 17,
   "metadata": {},
   "outputs": [
    {
     "data": {
      "text/plain": [
       "[[(1, \"alpha\"); (1, \"beta\"); (1, \"gamma\")]; [(2, \"alfa\")]; [(3, \"oe\")]]"
      ]
     },
     "execution_count": 17,
     "metadata": {},
     "output_type": "execute_result"
    }
   ],
   "source": [
    "let v = [(1,\"alpha\");(1,\"beta\");(1,\"gamma\");(2,\"alfa\");(3,\"oe\")]\n",
    "        |> groupBy fst\n",
    "        |> map snd\n",
    "v"
   ]
  },
  {
   "cell_type": "markdown",
   "metadata": {},
   "source": [
    "## Composable validation errors\n",
    "\n",
    "In order to glue together separate models and avoid Create methods that wrap validation and duplicate constructor parameter logic"
   ]
  },
  {
   "cell_type": "code",
   "execution_count": 2,
   "metadata": {},
   "outputs": [],
   "source": [
    "type VError= | MustNotBeEmpty\n",
    "             | MustBeAtLessThanChars of int\n",
    "             | MustBeADate\n",
    "             | MustBeOlderThan of int\n",
    "             | MustBeWithingRange of decimal*decimal\n",
    "module String=\n",
    "    let nonEmpty (x:string) : Validation<VError list,string> = \n",
    "        if String.IsNullOrEmpty x \n",
    "        then Failure [MustNotBeEmpty]\n",
    "        else Success x\n",
    "    let mustBeLessThan (i:int) (x:string) : Validation<VError list,string> = \n",
    "        if isNull x || x.Length > i\n",
    "        then Failure [MustBeAtLessThanChars i]\n",
    "        else Success x\n",
    "module Number=\n",
    "    let mustBeWithin (from,to') (x)=\n",
    "        if from<= x && x <= to'\n",
    "        then Success x\n",
    "        else Failure [MustBeWithingRange (from,to')]\n",
    "module DateTime=\n",
    "    let classicMovie year (d:DateTime)=\n",
    "        if d.Year < year\n",
    "        then Success d\n",
    "        else Failure [MustBeOlderThan year]\n",
    "    let date (d:DateTime)=\n",
    "        if d.Date = d\n",
    "        then Success d\n",
    "        else Failure [MustBeADate]\n",
    "type Genre=\n",
    "    |Classic\n",
    "    |PostClassic\n",
    "    |Modern\n",
    "    |PostModern\n",
    "    |Contemporary\n",
    "type Movie = {\n",
    "    Id: int\n",
    "    Title: String\n",
    "    ReleaseDate: DateTime\n",
    "    Description: String\n",
    "    Price: decimal\n",
    "    Genre: Genre\n",
    "}\n",
    "with static member Create(id,title,releaseDate,description,price,genre): Validation<VError list,Movie> =\n",
    "        fun title releaseDate description price->{ Id=id;Title=title;ReleaseDate=releaseDate;Description=description;Price=price;Genre=genre }\n",
    "        <!> String.nonEmpty title <* String.mustBeLessThan 100 title\n",
    "        <*> DateTime.classicMovie 1960 releaseDate <* DateTime.date releaseDate\n",
    "        <*> String.nonEmpty description <* String.mustBeLessThan 1000 description\n",
    "        <*> Number.mustBeWithin (0.0m, 999.99m) price\n"
   ]
  },
  {
   "cell_type": "code",
   "execution_count": 3,
   "metadata": {},
   "outputs": [
    {
     "data": {
      "text/plain": [
       "Failure [MustBeOlderThan 1960]"
      ]
     },
     "execution_count": 3,
     "metadata": {},
     "output_type": "execute_result"
    }
   ],
   "source": [
    "Movie.Create(1,\"Midsommar\",DateTime(2019,6,24),\"Midsommar is a 2019 folk horror film written...\",1m,Classic) //Failure [MustBeOlderThan 1960]"
   ]
  },
  {
   "cell_type": "code",
   "execution_count": 4,
   "metadata": {},
   "outputs": [
    {
     "data": {
      "text/plain": [
       "Success {Id = 2;\n",
       "         Title = \"Modern Times\";\n",
       "         ReleaseDate = 02/05/1936 00:00:00;\n",
       "         Description = \"Modern Times is a 1936 American comedy film...\";\n",
       "         Price = 1M;\n",
       "         Genre = Classic;}"
      ]
     },
     "execution_count": 4,
     "metadata": {},
     "output_type": "execute_result"
    }
   ],
   "source": [
    "Movie.Create(2,\"Modern Times\",DateTime(1936,2,5),\"Modern Times is a 1936 American comedy film...\",1m,Classic) // Success.."
   ]
  },
  {
   "cell_type": "code",
   "execution_count": 5,
   "metadata": {},
   "outputs": [
    {
     "data": {
      "text/plain": [
       "Failure [MustBeAtLessThanChars 100]"
      ]
     },
     "execution_count": 5,
     "metadata": {},
     "output_type": "execute_result"
    }
   ],
   "source": [
    "Movie.Create(3, String.Concat (seq{  1..110 }), DateTime(1950,1,1),\"11\",1m,Classic) //Failure [MustBeAtLessThanChars 100]"
   ]
  },
  {
   "cell_type": "markdown",
   "metadata": {},
   "source": [
    "## Be aware of your abstractions \n",
    "\n",
    "[Suave using asp.net core](https://github.com/wallymathieu/FSharpPlus.AspNetCore/blob/master/src/FSharpPlus.AspNetCore.Suave/Library.fs)\n",
    "\n",
    "Note how the WebPart defined\n",
    "\n",
    "The below code uses OptionT, a strongly typed monad transformer. If you want to glue together separate parts without having to code your own combinations of monads."
   ]
  },
  {
   "cell_type": "code",
   "execution_count": 6,
   "metadata": {},
   "outputs": [],
   "source": [
    "type WebPart<'a> = 'a -> OptionT<Async<'a option>>\n",
    "\n",
    "module WebPart=\n",
    "  /// Entry-point for composing the applicative routes of the http application,\n",
    "  /// by iterating the options, applying the context, arg, to the predicate\n",
    "  /// from the list of options, until there's a match/a Some(x) which can be\n",
    "  /// run.\n",
    "  let choose (options : WebPart<'a> list) = fun x -> choice (List.map ((|>) x) options)\n",
    "  let inline fail (_:'a) : OptionT<Async<'a option>> = async.Return None |> OptionT"
   ]
  },
  {
   "cell_type": "markdown",
   "metadata": {},
   "source": [
    "## Generic lenses\n",
    "\n"
   ]
  },
  {
   "cell_type": "code",
   "execution_count": 7,
   "metadata": {},
   "outputs": [],
   "source": [
    "open FSharpPlus.Lens\n",
    "\n",
    "// From Mauricio Scheffer: https://gist.github.com/mausch/4260932\n",
    "type Person = {\n",
    "    Name: string\n",
    "    DateOfBirth: DateTime\n",
    "}\n",
    "module Person=\n",
    "    let inline _name f { Name = a; DateOfBirth = b } = f a <&> fun a' -> { Name = a'; DateOfBirth = b }\n",
    " type Book = {\n",
    "    Title: string\n",
    "    Author: Person\n",
    "}\n",
    "module Book =\n",
    "    let inline _author f { Author = a; Title = b } = f a <&> fun a' -> { Author = a'; Title = b }\n",
    "    let inline _authorName b = _author << Person._name <| b\n",
    "let rayuela =\n",
    "    { Book.Title = \"Rayuela\"\n",
    "      Author = { Person.Name = \"Julio Cortázar\"\n",
    "                 DateOfBirth = DateTime (1914, 8, 26) } }\n"
   ]
  },
  {
   "cell_type": "code",
   "execution_count": 10,
   "metadata": {},
   "outputs": [
    {
     "data": {
      "text/plain": [
       "\"Julio Cortázar\""
      ]
     },
     "execution_count": 10,
     "metadata": {},
     "output_type": "execute_result"
    }
   ],
   "source": [
    "// read book author name:\n",
    "view Book._authorName rayuela"
   ]
  },
  {
   "cell_type": "code",
   "execution_count": 9,
   "metadata": {},
   "outputs": [
    {
     "data": {
      "text/plain": [
       "\"Julio Cortázar\""
      ]
     },
     "execution_count": 9,
     "metadata": {},
     "output_type": "execute_result"
    }
   ],
   "source": [
    "//  you can also write the read operation as:\n",
    "rayuela ^. Book._authorName"
   ]
  },
  {
   "cell_type": "markdown",
   "metadata": {},
   "source": [
    "## What use are lenses anyway\n",
    "\n",
    "Main reason to use lenses is to deal with immutable data. If you use c# you probaly want to [generate code](http://assertfail.gewalli.se/2020/01/26/Immutable-classes-in-csharp.html) in some way or leverage f# in order to give you [simplified lenses](https://github.com/wallymathieu/with)."
   ]
  },
  {
   "cell_type": "code",
   "execution_count": null,
   "metadata": {},
   "outputs": [],
   "source": []
  }
 ],
 "metadata": {
  "kernelspec": {
   "display_name": "F#",
   "language": "fsharp",
   "name": "ifsharp"
  },
  "language": "fsharp",
  "language_info": {
   "codemirror_mode": "",
   "file_extension": ".fs",
   "mimetype": "text/x-fsharp",
   "name": "fsharp",
   "nbconvert_exporter": "",
   "pygments_lexer": "",
   "version": "4.3.1.0"
  }
 },
 "nbformat": 4,
 "nbformat_minor": 2
}
