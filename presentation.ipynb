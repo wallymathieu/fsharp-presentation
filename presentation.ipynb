{
 "cells": [
  {
   "cell_type": "markdown",
   "metadata": {},
   "source": [
    "# What if we imagine F# as more than it is?\n",
    "\n",
    "If you search for questions around f# on stackoverflow and get an answer that it's not possible, check if "
   ]
  },
  {
   "cell_type": "code",
   "execution_count": 1,
   "metadata": {},
   "outputs": [],
   "source": [
    "#load \".paket/load/main.group.fsx\"\n",
    "#load \".paket/load/FluentValidation.fsx\"\n",
    "#load \".paket/load/FSharpPlus.fsx\"\n",
    "#load \".paket/load/System.ComponentModel.Annotations.fsx\"\n",
    "open FSharpPlus\n",
    "open FSharpPlus.Operators\n",
    "open FSharpPlus.Data\n",
    "open System"
   ]
  },
  {
   "cell_type": "markdown",
   "metadata": {},
   "source": [
    "What are the limitations that an ocaml or f# developer has to deal with?\n",
    " "
   ]
  },
  {
   "cell_type": "markdown",
   "metadata": {},
   "source": [
    "## Abstractions similar to common type classes\n",
    "\n",
    "How many type classes are relevant for a given Haskell programmer? In most cases it's a subset of the image shown on f#+\n",
    "\n",
    "[abstractions](http://fsprojects.github.io/FSharpPlus/abstractions.html)\n",
    "\n",
    "![alt text](http://www.plantuml.com/plantuml/svg/p5dBRjiu55sF0Vy30G51yx23cMMH64qx4w100nHrTa4Mj4n9R2XI9QaaZf8lws8-QNvXBXzwEdOnacQcEukFS-wBbvVNVtt_yvtIMEeyPTE9kgCymnAdIDt7lzEKS4K5N-eD8oZ2J97fP3hH8YOw8H8LqyalUAMqnA568SDAeIL9QIn5dg6RcqJhxEtfQQGoARwIKAjvJ7MIh-PKd5uk4oopponNfoK24CrKkNsUw9JTtbeAX8xHc-D3z8WsW3eSDiXW7XKNMKRuMY7z852rGBsWszjR87qncdQr-o1ImV6wdswXszpLZ3mwXiUUkZLX0m_cLB1sEryi3f52CNesJA2m_HY72j1AflDpJxZECqP3h0bwT5QqXkpOyKfmGNkQCRLx6rOqh4z4YfvAfJLUO66AZsl2DTKR50bf0i-7nF0mR5ArOt0bT8BST1c1pgQ6T4c-pLMUzewG9gt1AIuPrk0yX27kl-M4XmI9g4DltRRbkCkSXngiqakEo6tkk2x56OfwwzR430nKyOb66ZIp4x02KQu5V7l9juoRyoUQcLXzBKu_20wVzrXIp7NVKz-0wAZkveOPO1i_g63tE182pnvJUa_wwOLhW8vMakXSyY7HMgOOZrIwz1wpdEpo9vpDioD8TVqjYJiQsTF9Di35W9-i4PPn3ZUYHbO0FrZ6sLPW_Izn_LeGNp1D91_YwXgWusgIPf0cRqP2hVpuFCoFhmDNVeceMO2oqGY24hBuOWDM8SoOYrQ55AnJqORo647DX399rlPwF44qQe_uWwDSeOKUA83ayCCiSeQsa7iyVTM_EAbFtKzma1UBStFDHiE9LnGAdk8Qtu4diBdXCDZQysEOmlLvYgH8uJjZc7AaDnaONdJtdDXDfPymukIXlU3do0A6-Ai0DKRXjKXbpU3APOOtH2fVD5ZjAOTYASMrJ8At8dKhLjzJJz8lNbVbzaxC5l2MqJHyGIlgJ1_tDaAR0aAfl54DJqIbqWCysm6tS1Mu8d25hyT3TtXDPsmNTeAjyGfUUVtYnUzkEQDonJ6S9AXX-qTZ4prmM0MKPlT4QeX7uUhOFNaHOcsGUYlw8mNTYglX4TTIjKBraR55QDcUHkRRHVOUXtTUlQTH2Grm5VihEkIfiqq0Q3lZuXeAPyXZ_GD3rm0xGzyjWVP9RwMwB465MPY88pXC4674bgQGak4qQ9c7S4UvAmpUUHRd115pHvbA0qgA5342Lmaia3HEu4w1X1CAna0akE1KpZHwQIGa_qmSJOKAiVYZ5ChguTR35MBBdbgHtSAQTQN0ZHImhqdrMOf1bqzMxUysSoh7hmTVFnsIm2BMZHqshBBeehCMk1mNtC3jwwg1zsCXpKEYpmFOx-ww0iO_cc9uC6RWa8fh23HQjePI8RE4gdJkJubhjfsTdPcNIpmMBVGReURxOc9-fiNC7eAI6Gv0cWb5pKwG0crrug2CNlmBqdm28OmmxYJkbsP7--z2Il7GyorgjdPgFXZh_LR05Lu0FxVhQvz0xQf6GeI1Iry1ngCmExHYQHgq9gFz2b_MfDndTJC8lVdS93neLCU97QbQ4XRDvyLiKoP53UsjCC4yXaO5Q696HQu1f79H_L81X6LPTuwZauUhbVhDYlTVA0NHVtHqT3YQAX3wy9I4sse9FIBTa7j5z0E1LgePCI-ZjkpmHdGgsysmXifNPJquE1X9rWXp86ZOt9jNk1RpFnQlUY_KV-oWsUnvKRRmfvEo9Uo6gsTTTwBHS9nEcjt72WwlNvjeTA-c4qywdzSxcaFb8wOzMbV_jKmp0-t_pUcCDef2c2dV3TjJJL4jJsksAK1BXOghtLoUJjxucPFsnA6ZhakMwQHHlW2Apz80K8y3XX_ssrtAdKxUGLZOF_h-1W00__y30000\n",
    " \"F#+ abstractions\")\n",
    "\n"
   ]
  },
  {
   "cell_type": "markdown",
   "metadata": {},
   "source": [
    "What does this mean in practice? It means that you can let f# infer the operation given type. "
   ]
  },
  {
   "cell_type": "code",
   "execution_count": 2,
   "metadata": {},
   "outputs": [
    {
     "data": {
      "text/plain": [
       "[[(1, \"alpha\"); (1, \"beta\"); (1, \"gamma\")]; [(2, \"alfa\")]; [(3, \"oe\")]]"
      ]
     },
     "execution_count": 2,
     "metadata": {},
     "output_type": "execute_result"
    }
   ],
   "source": [
    "// Instead of:\n",
    "let v = [(1,\"alpha\");(1,\"beta\");(1,\"gamma\");(2,\"alfa\");(3,\"oe\")]\n",
    "        |> List.groupBy fst\n",
    "        |> List.map snd\n",
    "v"
   ]
  },
  {
   "cell_type": "code",
   "execution_count": 3,
   "metadata": {},
   "outputs": [
    {
     "data": {
      "text/plain": [
       "[[(1, \"alpha\"); (1, \"beta\"); (1, \"gamma\")]; [(2, \"alfa\")]; [(3, \"oe\")]]"
      ]
     },
     "execution_count": 3,
     "metadata": {},
     "output_type": "execute_result"
    }
   ],
   "source": [
    "// You can do:\n",
    "let v = [(1,\"alpha\");(1,\"beta\");(1,\"gamma\");(2,\"alfa\");(3,\"oe\")]\n",
    "        |> groupBy fst\n",
    "        |> map snd\n",
    "v"
   ]
  },
  {
   "cell_type": "markdown",
   "metadata": {},
   "source": [
    "If you implement the right static API, your type will be recognized as a monad and you can apply generic monad operations.\n",
    "\n",
    "```f#\n",
    "static member Return (x: 'T) : 'Monad<'T>\n",
    "static member (>>=) (x: Monad<'T>, f: 'T->Monad<'U>) : Monad<'U>\n",
    "```\n",
    "\n",
    "Since these static members don't know anything about f#+, you don't need to include f#+ in library code (unless you want to use the features)."
   ]
  },
  {
   "cell_type": "markdown",
   "metadata": {},
   "source": [
    "## Composable validation errors\n",
    "\n",
    "In order to glue together separate models and avoid Create methods that wrap validation and duplicate constructor parameter logic"
   ]
  },
  {
   "cell_type": "code",
   "execution_count": 4,
   "metadata": {},
   "outputs": [],
   "source": [
    "type VError= | MustNotBeEmpty\n",
    "             | MustBeAtLessThanChars of int\n",
    "             | MustBeADate\n",
    "             | MustBeOlderThan of int\n",
    "             | MustBeWithingRange of decimal*decimal\n",
    "module String=\n",
    "    let nonEmpty (x:string) : Validation<VError list,string> = \n",
    "        if String.IsNullOrEmpty x \n",
    "        then Failure [MustNotBeEmpty]\n",
    "        else Success x\n",
    "    let mustBeLessThan (i:int) (x:string) : Validation<VError list,string> = \n",
    "        if isNull x || x.Length > i\n",
    "        then Failure [MustBeAtLessThanChars i]\n",
    "        else Success x\n",
    "module Number=\n",
    "    let mustBeWithin (from,to') (x)=\n",
    "        if from<= x && x <= to'\n",
    "        then Success x\n",
    "        else Failure [MustBeWithingRange (from,to')]\n",
    "module DateTime=\n",
    "    let classicMovie year (d:DateTime)=\n",
    "        if d.Year < year\n",
    "        then Success d\n",
    "        else Failure [MustBeOlderThan year]\n",
    "    let date (d:DateTime)=\n",
    "        if d.Date = d\n",
    "        then Success d\n",
    "        else Failure [MustBeADate]\n",
    "type Genre=\n",
    "    |Classic\n",
    "    |PostClassic\n",
    "    |Modern\n",
    "    |PostModern\n",
    "    |Contemporary\n",
    "type Movie = {\n",
    "    Id: int\n",
    "    Title: String\n",
    "    ReleaseDate: DateTime\n",
    "    Description: String\n",
    "    Price: decimal\n",
    "    Genre: Genre\n",
    "}\n",
    "with static member Create(id,title,releaseDate,description,price,genre): Validation<VError list,Movie> =\n",
    "        fun title releaseDate description price->{ Id=id;Title=title;ReleaseDate=releaseDate;Description=description;Price=price;Genre=genre }\n",
    "        <!> String.nonEmpty title <* String.mustBeLessThan 100 title\n",
    "        <*> DateTime.classicMovie 1960 releaseDate <* DateTime.date releaseDate\n",
    "        <*> String.nonEmpty description <* String.mustBeLessThan 1000 description\n",
    "        <*> Number.mustBeWithin (0.0m, 999.99m) price\n"
   ]
  },
  {
   "cell_type": "code",
   "execution_count": 5,
   "metadata": {},
   "outputs": [
    {
     "data": {
      "text/plain": [
       "Failure [MustBeOlderThan 1960]"
      ]
     },
     "execution_count": 5,
     "metadata": {},
     "output_type": "execute_result"
    }
   ],
   "source": [
    "Movie.Create(1,\"Midsommar\",DateTime(2019,6,24),\"Midsommar is a 2019 folk horror film written...\",1m,Classic) //Failure [MustBeOlderThan 1960]"
   ]
  },
  {
   "cell_type": "code",
   "execution_count": 6,
   "metadata": {},
   "outputs": [
    {
     "data": {
      "text/plain": [
       "Success {Id = 2;\n",
       "         Title = \"Modern Times\";\n",
       "         ReleaseDate = 02/05/1936 00:00:00;\n",
       "         Description = \"Modern Times is a 1936 American comedy film...\";\n",
       "         Price = 1M;\n",
       "         Genre = Classic;}"
      ]
     },
     "execution_count": 6,
     "metadata": {},
     "output_type": "execute_result"
    }
   ],
   "source": [
    "Movie.Create(2,\"Modern Times\",DateTime(1936,2,5),\"Modern Times is a 1936 American comedy film...\",1m,Classic) // Success.."
   ]
  },
  {
   "cell_type": "code",
   "execution_count": 7,
   "metadata": {},
   "outputs": [
    {
     "data": {
      "text/plain": [
       "Failure [MustBeAtLessThanChars 100]"
      ]
     },
     "execution_count": 7,
     "metadata": {},
     "output_type": "execute_result"
    }
   ],
   "source": [
    "Movie.Create(3, String.Concat (seq{  1..110 }), DateTime(1950,1,1),\"11\",1m,Classic) //Failure [MustBeAtLessThanChars 100]"
   ]
  },
  {
   "cell_type": "markdown",
   "metadata": {},
   "source": []
  },
  {
   "cell_type": "markdown",
   "metadata": {},
   "source": [
    "## Be aware of your abstractions \n",
    "\n",
    "[Suave using asp.net core](https://github.com/wallymathieu/FSharpPlus.AspNetCore/blob/master/src/FSharpPlus.AspNetCore.Suave/Library.fs)\n",
    "\n",
    "Note how the WebPart defined. This will also give you an idea how to deal with new libraries using similar abstractions.\n",
    "\n",
    "The below code uses OptionT, a strongly typed monad transformer. If you want to glue together separate parts without having to code your own combinations of monads."
   ]
  },
  {
   "cell_type": "code",
   "execution_count": 8,
   "metadata": {},
   "outputs": [],
   "source": [
    "type WebPart<'a> = 'a -> OptionT<Async<'a option>>\n",
    "\n",
    "module WebPart=\n",
    "  /// Entry-point for composing the applicative routes of the http application,\n",
    "  /// by iterating the options, applying the context, arg, to the predicate\n",
    "  /// from the list of options, until there's a match/a Some(x) which can be\n",
    "  /// run.\n",
    "  let choose (options : WebPart<'a> list) = fun x -> choice (List.map ((|>) x) options)\n",
    "  let inline fail (_:'a) : OptionT<Async<'a option>> = async.Return None |> OptionT"
   ]
  },
  {
   "cell_type": "markdown",
   "metadata": {},
   "source": [
    "## Generic lenses\n",
    "\n",
    "Gusty has proven that even though it seems impossible to do in .net, it is possible to do generic lenses. "
   ]
  },
  {
   "cell_type": "code",
   "execution_count": 9,
   "metadata": {},
   "outputs": [],
   "source": [
    "open FSharpPlus.Lens\n",
    "\n",
    "// From Mauricio Scheffer: https://gist.github.com/mausch/4260932\n",
    "type Person = {\n",
    "    Name: string\n",
    "    DateOfBirth: DateTime\n",
    "}\n",
    "module Person=\n",
    "    let inline _name f { Name = a; DateOfBirth = b } = f a <&> fun a' -> { Name = a'; DateOfBirth = b }\n",
    " type Book = {\n",
    "    Title: string\n",
    "    Author: Person\n",
    "}\n",
    "module Book =\n",
    "    let inline _author f { Author = a; Title = b } = f a <&> fun a' -> { Author = a'; Title = b }\n",
    "    let inline _authorName b = _author << Person._name <| b\n",
    "let rayuela =\n",
    "    { Book.Title = \"Rayuela\"\n",
    "      Author = { Person.Name = \"Julio Cortázar\"\n",
    "                 DateOfBirth = DateTime (1914, 8, 26) } }\n"
   ]
  },
  {
   "cell_type": "code",
   "execution_count": 10,
   "metadata": {},
   "outputs": [
    {
     "data": {
      "text/plain": [
       "\"Julio Cortázar\""
      ]
     },
     "execution_count": 10,
     "metadata": {},
     "output_type": "execute_result"
    }
   ],
   "source": [
    "// read book author name:\n",
    "view Book._authorName rayuela"
   ]
  },
  {
   "cell_type": "code",
   "execution_count": 11,
   "metadata": {},
   "outputs": [
    {
     "data": {
      "text/plain": [
       "\"Julio Cortázar\""
      ]
     },
     "execution_count": 11,
     "metadata": {},
     "output_type": "execute_result"
    }
   ],
   "source": [
    "//  you can also write the read operation as:\n",
    "rayuela ^. Book._authorName"
   ]
  },
  {
   "cell_type": "markdown",
   "metadata": {},
   "source": [
    "## What use are lenses anyway\n",
    "\n",
    "Main reason to use lenses is to deal with immutable data. If you use c# you probaly want to [generate code](http://assertfail.gewalli.se/2020/01/26/Immutable-classes-in-csharp.html) in some way or leverage f# in order to give you [simplified lenses](https://github.com/wallymathieu/with)."
   ]
  },
  {
   "cell_type": "markdown",
   "metadata": {},
   "source": [
    "## Free monads\n",
    "\n",
    "If you read [Ploeh on combining free monads in f#](https://blog.ploeh.dk/2017/07/31/combining-free-monads-in-f/) he mentions that you need more boilerplate in f#. This is actually not true, since you can use f#+ to reduce the clutter. We have the following [source from f#+ tests](https://github.com/fsprojects/FSharpPlus/blob/b92747b039b767602e34a962b92f673554b5a537/tests/FSharpPlus.Tests/Free.fs#L78-L146) :"
   ]
  },
  {
   "cell_type": "code",
   "execution_count": 16,
   "metadata": {},
   "outputs": [
    {
     "name": "stderr",
     "output_type": "stream",
     "text": [
      "This and other recursive references to the object(s) being defined will be checked for initialization-soundness at runtime through the use of a delayed reference. This is because you are defining one or more recursive objects, rather than recursive functions. This warning may be suppressed by using '#nowarn \"40\"' or '--nowarn:40'.\n",
      "This and other recursive references to the object(s) being defined will be checked for initialization-soundness at runtime through the use of a delayed reference. This is because you are defining one or more recursive objects, rather than recursive functions. This warning may be suppressed by using '#nowarn \"40\"' or '--nowarn:40'.\n",
      "This and other recursive references to the object(s) being defined will be checked for initialization-soundness at runtime through the use of a delayed reference. This is because you are defining one or more recursive objects, rather than recursive functions. This warning may be suppressed by using '#nowarn \"40\"' or '--nowarn:40'.\n",
      "Uppercase variable identifiers should not generally be used in patterns, and may indicate a misspelt pattern name.\n",
      "Uppercase variable identifiers should not generally be used in patterns, and may indicate a misspelt pattern name.\n",
      "Uppercase variable identifiers should not generally be used in patterns, and may indicate a misspelt pattern name.\n",
      "Uppercase variable identifiers should not generally be used in patterns, and may indicate a misspelt pattern name."
     ]
    }
   ],
   "source": [
    "// Free monad-interpreter in F# from https://blog.ploeh.dk/2017/07/17/a-pure-command-line-wizard/\n",
    "\n",
    "type CommandLineInstruction<'t> =\n",
    "    | ReadLine  of (string -> 't)\n",
    "    | WriteLine of  string  * 't\n",
    "with static member Map (x, f) =\n",
    "        match x with\n",
    "        | ReadLine   g     -> ReadLine  (f << g)\n",
    "        | WriteLine (s, g) -> WriteLine (s, f g)\n",
    "\n",
    "let readLine    = Free.liftF (ReadLine id)\n",
    "let writeLine s = Free.liftF (WriteLine (s, ()))\n",
    "\n",
    "\n",
    "let rec interpretCommandLine = Free.run >> function\n",
    "    | Pure x -> x\n",
    "    | Roll (ReadLine      next)  -> Console.ReadLine () |> next |> interpretCommandLine\n",
    "    | Roll (WriteLine (s, next)) ->\n",
    "        Console.WriteLine s\n",
    "        next |> interpretCommandLine\n",
    "\n",
    "let rec readQuantity = monad {\n",
    "    do! writeLine \"Please enter number of diners:\"\n",
    "    let! l = readLine\n",
    "    match tryParse l with\n",
    "    | Some dinerCount -> return dinerCount\n",
    "    | None ->\n",
    "        do! writeLine \"Not an integer.\"\n",
    "        return! readQuantity }\n",
    "\n",
    "let rec readDate = monad {\n",
    "    do! writeLine \"Please enter your desired date:\"\n",
    "    let! l = readLine\n",
    "    match DateTimeOffset.TryParse l with\n",
    "    | true, dt -> return dt\n",
    "    | _ ->\n",
    "        do! writeLine \"Not a date.\"\n",
    "        return! readDate }\n",
    "\n",
    "let readName = monad {\n",
    "    do! writeLine \"Please enter your name:\"\n",
    "    return! readLine }\n",
    "\n",
    "let readEmail = monad {\n",
    "    do! writeLine \"Please enter your email address:\"\n",
    "    return! readLine }\n",
    "\n",
    "\n",
    "type Reservation = {\n",
    "    Date : DateTimeOffset\n",
    "    Name : string\n",
    "    Email : string\n",
    "    Quantity : int }\n",
    "    with static member Create (Quantity, Date, Name, Email) = { Date = Date; Name = Name; Email = Email; Quantity = Quantity }\n",
    "\n",
    "let readReservationRequest =\n",
    "    curryN Reservation.Create\n",
    "    <!> readQuantity\n",
    "    <*> readDate\n",
    "    <*> readName\n",
    "    <*> readEmail\n",
    "\n",
    "\n",
    "\n",
    "let mainFunc () =\n",
    "    readReservationRequest\n",
    "    >>= (writeLine << (sprintf \"%A\"))\n",
    "    |> interpretCommandLine\n",
    "    0"
   ]
  },
  {
   "cell_type": "code",
   "execution_count": null,
   "metadata": {},
   "outputs": [],
   "source": []
  }
 ],
 "metadata": {
  "kernelspec": {
   "display_name": "F#",
   "language": "fsharp",
   "name": "ifsharp"
  },
  "language": "fsharp",
  "language_info": {
   "codemirror_mode": "",
   "file_extension": ".fs",
   "mimetype": "text/x-fsharp",
   "name": "fsharp",
   "nbconvert_exporter": "",
   "pygments_lexer": "",
   "version": "4.3.1.0"
  }
 },
 "nbformat": 4,
 "nbformat_minor": 2
}
